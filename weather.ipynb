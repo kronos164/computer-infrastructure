{
 "cells": [
  {
   "cell_type": "markdown",
   "metadata": {},
   "source": [
    "# Weather Data Automation Report\n",
    "\n",
    "This notebook documents the process of automating weather data collection and timestamp management using shell commands and scripts. The tasks include creating directory structures, appending timestamps, formatting files, downloading weather data, and writing a reusable script."
   ]
  },
  {
   "cell_type": "markdown",
   "metadata": {},
   "source": [
    "## Task 1: Create Directory Structure\n",
    "\n",
    "To organize the files, I created a directory structure with a root folder named `data` and two subdirectories: `timestamps` (for timestamp-related files) and `weather` (for weather data files).\n",
    "\n",
    "### Commands Used:\n",
    "- `mkdir -p data/timestamps data/weather`: This command creates the directories in one step. The `-p` flag ensures that parent directories are created if they do not exist."
   ]
  },
  {
   "cell_type": "markdown",
   "metadata": {},
   "source": [
    "## Task 2: Timestamps\n",
    "\n",
    "I navigated to the `data/timestamps` directory and appended the current date and time to a file named `now.txt`. This was repeated ten times.\n",
    "\n",
    "### Commands Used:\n",
    "- `cd data/timestamps`: Changes the current directory to `data/timestamps`.\n",
    "- `date >> now.txt`: Appends the current date and time to `now.txt`.\n",
    "- `more now.txt`: Displays the content of `now.txt` to verify it."
   ]
  },
  {
   "cell_type": "markdown",
   "metadata": {},
   "source": [
    "## Task 3: Formatting Timestamps\n",
    "\n",
    "I formatted timestamps in the `YYYYmmdd_HHMMSS` format and appended them to a file named `formatted.txt`.\n",
    "\n",
    "### Commands Used:\n",
    "- `date +%Y%m%d_%H%M%S >> formatted.txt`: Formats the timestamp and appends it to `formatted.txt`."
   ]
  },
  {
   "cell_type": "markdown",
   "metadata": {},
   "source": [
    "## Task 4: Create Timestamped Files\n",
    "\n",
    "I used the `touch` command with an embedded date command to create empty files named in the format `YYYYmmdd_HHMMSS.txt`.\n",
    "\n",
    "### Commands Used:\n",
    "- `touch $(date +%Y%m%d_%H%M%S).txt`: Creates an empty file with a timestamped name."
   ]
  },
  {
   "cell_type": "markdown",
   "metadata": {},
   "source": [
    "## Task 5: Download Today's Weather Data\n",
    "\n",
    "I downloaded weather data for Athenry using the `wget` command and saved it as `weather.json`.\n",
    "\n",
    "### Commands Used:\n",
    "- `wget -O weather.json https://prodapi.metweb.ie/observations/athenry/today`: Downloads the data and saves it as `weather.json`."
   ]
  },
  {
   "cell_type": "markdown",
   "metadata": {},
   "source": [
    "## Task 6: Timestamp the Data\n",
    "\n",
    "I modified the previous command to save weather data with a timestamped filename.\n",
    "\n",
    "### Commands Used:\n",
    "- `wget -O $(date +%Y%m%d_%H%M%S).json https://prodapi.metweb.ie/observations/athenry/today`: Saves weather data with a timestamped filename."
   ]
  },
  {
   "cell_type": "markdown",
   "metadata": {},
   "source": [
    "## Task 7: Write the Script\n",
    "\n",
    "I wrote a script named `weather.sh` to automate weather data downloads, manage old files, and update timestamps. The script performs the following tasks:\n",
    "1. Downloads weather data with a timestamped filename.\n",
    "2. Keeps only the last ten JSON files in the directory.\n",
    "3. Updates the timestamps file (`now.txt`) with only the last ten entries.\n",
    "\n",
    "### Script Content:\n",
    "```bash\n",
    "#! /bin/bash\n",
    "\n",
    "echo \"Downloading weather data\"\n",
    "\n",
    "curl -o data/weather/`date +\"%Y%m%d_%H%M%S_athenry.json\"` https://prodapi.metweb.ie/observations/athenry/today\n",
    "\n",
    "echo \"Download complete\"\n",
    "\n",
    "# Keep only the last 10 JSON files in the directory\n",
    "\n",
    "echo \"Cleaning up old JSON files\"\n",
    "\n",
    "ls -tp data/weather/*.json | grep -v '/$' | tail -n +11 | xargs -d '\\n' rm -- 2>/dev/null\n",
    "\n",
    "echo \"Old JSON files removed\"\n",
    "\n",
    "echo \"Updating timestamps file\"\n",
    "\n",
    "date +%Y%m%d_%H%M%S_%Z >> data/timestamps/now.txt\n",
    "\n",
    "# Keep only the last 10 lines in now.txt\n",
    "\n",
    "tail -n 10 data/timestamps/now.txt > data/timestamps/temp.txt\n",
    "\n",
    "mv data/timestamps/temp.txt data/timestamps/now.txt\n",
    "\n",
    "echo \"Timestamps updated\"\n",
    "\n",
    "echo \"Reading last 10 timestamps\"\n",
    "\n",
    "more data/timestamps/now.txt\n",
    "\n",
    "echo \"Script finished\""
   ]
  },
  {
   "cell_type": "markdown",
   "metadata": {},
   "source": [
    "\n",
    "#### **Cell 9: Conclusion**\n",
    "\n",
    "This project demonstrates how to automate tasks such as directory creation, timestamp management, and downloading weather data using shell commands and scripts. The automation ensures efficient file management and reduces manual effort."
   ]
  },
  {
   "cell_type": "markdown",
   "metadata": {},
   "source": [
    "## Import Libraries\n"
   ]
  },
  {
   "cell_type": "code",
   "execution_count": 17,
   "metadata": {},
   "outputs": [],
   "source": [
    "import pandas as pd\n",
    "import json\n",
    "import matplotlib.pyplot as plt"
   ]
  },
  {
   "cell_type": "markdown",
   "metadata": {},
   "source": [
    "## Load Weather Data\n",
    "\n",
    "Use the pandas.read_json() function to load one of the weather data files. Replace <filename> with the actual name of one of your JSON files (e.g., 20241206_220000_athenry.json):"
   ]
  },
  {
   "cell_type": "code",
   "execution_count": 18,
   "metadata": {},
   "outputs": [
    {
     "data": {
      "text/html": [
       "<div>\n",
       "<style scoped>\n",
       "    .dataframe tbody tr th:only-of-type {\n",
       "        vertical-align: middle;\n",
       "    }\n",
       "\n",
       "    .dataframe tbody tr th {\n",
       "        vertical-align: top;\n",
       "    }\n",
       "\n",
       "    .dataframe thead th {\n",
       "        text-align: right;\n",
       "    }\n",
       "</style>\n",
       "<table border=\"1\" class=\"dataframe\">\n",
       "  <thead>\n",
       "    <tr style=\"text-align: right;\">\n",
       "      <th></th>\n",
       "      <th>name</th>\n",
       "      <th>temperature</th>\n",
       "      <th>symbol</th>\n",
       "      <th>weatherDescription</th>\n",
       "      <th>text</th>\n",
       "      <th>windSpeed</th>\n",
       "      <th>windGust</th>\n",
       "      <th>cardinalWindDirection</th>\n",
       "      <th>windDirection</th>\n",
       "      <th>humidity</th>\n",
       "      <th>rainfall</th>\n",
       "      <th>pressure</th>\n",
       "      <th>dayName</th>\n",
       "      <th>date</th>\n",
       "      <th>reportTime</th>\n",
       "    </tr>\n",
       "  </thead>\n",
       "  <tbody>\n",
       "    <tr>\n",
       "      <th>0</th>\n",
       "      <td>Athenry</td>\n",
       "      <td>7</td>\n",
       "      <td>02n</td>\n",
       "      <td>Fair</td>\n",
       "      <td>\"Fair\"</td>\n",
       "      <td>17</td>\n",
       "      <td>-</td>\n",
       "      <td>NW</td>\n",
       "      <td>315</td>\n",
       "      <td>88</td>\n",
       "      <td>0.00</td>\n",
       "      <td>1013</td>\n",
       "      <td>Monday</td>\n",
       "      <td>2024-02-12</td>\n",
       "      <td>00:00</td>\n",
       "    </tr>\n",
       "    <tr>\n",
       "      <th>1</th>\n",
       "      <td>Athenry</td>\n",
       "      <td>7</td>\n",
       "      <td>04n</td>\n",
       "      <td>Cloudy</td>\n",
       "      <td>\"Cloudy\"</td>\n",
       "      <td>15</td>\n",
       "      <td>-</td>\n",
       "      <td>W</td>\n",
       "      <td>270</td>\n",
       "      <td>85</td>\n",
       "      <td>0.00</td>\n",
       "      <td>1014</td>\n",
       "      <td>Monday</td>\n",
       "      <td>2024-02-12</td>\n",
       "      <td>01:00</td>\n",
       "    </tr>\n",
       "    <tr>\n",
       "      <th>2</th>\n",
       "      <td>Athenry</td>\n",
       "      <td>7</td>\n",
       "      <td>02n</td>\n",
       "      <td>Fair</td>\n",
       "      <td>\"Fair\"</td>\n",
       "      <td>17</td>\n",
       "      <td>-</td>\n",
       "      <td>NW</td>\n",
       "      <td>315</td>\n",
       "      <td>86</td>\n",
       "      <td>0.00</td>\n",
       "      <td>1015</td>\n",
       "      <td>Monday</td>\n",
       "      <td>2024-02-12</td>\n",
       "      <td>02:00</td>\n",
       "    </tr>\n",
       "    <tr>\n",
       "      <th>3</th>\n",
       "      <td>Athenry</td>\n",
       "      <td>6</td>\n",
       "      <td>46n</td>\n",
       "      <td>Light rain</td>\n",
       "      <td>\"Moderate Drizzle \"</td>\n",
       "      <td>26</td>\n",
       "      <td>-</td>\n",
       "      <td>NW</td>\n",
       "      <td>315</td>\n",
       "      <td>86</td>\n",
       "      <td>0.01</td>\n",
       "      <td>1016</td>\n",
       "      <td>Monday</td>\n",
       "      <td>2024-02-12</td>\n",
       "      <td>03:00</td>\n",
       "    </tr>\n",
       "    <tr>\n",
       "      <th>4</th>\n",
       "      <td>Athenry</td>\n",
       "      <td>5</td>\n",
       "      <td>46n</td>\n",
       "      <td>Light rain</td>\n",
       "      <td>\"Recent Drizzle \"</td>\n",
       "      <td>15</td>\n",
       "      <td>-</td>\n",
       "      <td>NW</td>\n",
       "      <td>315</td>\n",
       "      <td>89</td>\n",
       "      <td>0.01</td>\n",
       "      <td>1017</td>\n",
       "      <td>Monday</td>\n",
       "      <td>2024-02-12</td>\n",
       "      <td>04:00</td>\n",
       "    </tr>\n",
       "  </tbody>\n",
       "</table>\n",
       "</div>"
      ],
      "text/plain": [
       "      name  temperature symbol weatherDescription                 text  \\\n",
       "0  Athenry            7    02n               Fair               \"Fair\"   \n",
       "1  Athenry            7    04n             Cloudy             \"Cloudy\"   \n",
       "2  Athenry            7    02n               Fair               \"Fair\"   \n",
       "3  Athenry            6    46n        Light rain   \"Moderate Drizzle \"   \n",
       "4  Athenry            5    46n        Light rain     \"Recent Drizzle \"   \n",
       "\n",
       "   windSpeed windGust cardinalWindDirection  windDirection  humidity  \\\n",
       "0         17        -                    NW            315        88   \n",
       "1         15        -                     W            270        85   \n",
       "2         17        -                    NW            315        86   \n",
       "3         26        -                    NW            315        86   \n",
       "4         15        -                    NW            315        89   \n",
       "\n",
       "   rainfall  pressure dayName       date reportTime  \n",
       "0      0.00      1013  Monday 2024-02-12      00:00  \n",
       "1      0.00      1014  Monday 2024-02-12      01:00  \n",
       "2      0.00      1015  Monday 2024-02-12      02:00  \n",
       "3      0.01      1016  Monday 2024-02-12      03:00  \n",
       "4      0.01      1017  Monday 2024-02-12      04:00  "
      ]
     },
     "execution_count": 18,
     "metadata": {},
     "output_type": "execute_result"
    }
   ],
   "source": [
    "# Load the JSON file into a pandas DataFrame\n",
    "file_directory = \"..\\\\computer-infrastructure\\\\data\\\\weather\\\\\"\n",
    "file_name = \"20241202_102658_athenry.json\" # Replace <filename> with an actual file name\n",
    "weather_data = pd.read_json(file_directory + file_name)\n",
    "\n",
    "# Display the first few rows of the data\n",
    "weather_data.head()"
   ]
  },
  {
   "cell_type": "markdown",
   "metadata": {},
   "source": [
    "##Examine and Summarize the Data\n",
    "\n",
    "Use pandas functions to examine and summarize the dataset:"
   ]
  },
  {
   "cell_type": "code",
   "execution_count": 19,
   "metadata": {},
   "outputs": [
    {
     "name": "stdout",
     "output_type": "stream",
     "text": [
      "<class 'pandas.core.frame.DataFrame'>\n",
      "RangeIndex: 11 entries, 0 to 10\n",
      "Data columns (total 15 columns):\n",
      " #   Column                 Non-Null Count  Dtype         \n",
      "---  ------                 --------------  -----         \n",
      " 0   name                   11 non-null     object        \n",
      " 1   temperature            11 non-null     int64         \n",
      " 2   symbol                 11 non-null     object        \n",
      " 3   weatherDescription     11 non-null     object        \n",
      " 4   text                   11 non-null     object        \n",
      " 5   windSpeed              11 non-null     int64         \n",
      " 6   windGust               11 non-null     object        \n",
      " 7   cardinalWindDirection  11 non-null     object        \n",
      " 8   windDirection          11 non-null     int64         \n",
      " 9   humidity               11 non-null     int64         \n",
      " 10  rainfall               11 non-null     float64       \n",
      " 11  pressure               11 non-null     int64         \n",
      " 12  dayName                11 non-null     object        \n",
      " 13  date                   11 non-null     datetime64[ns]\n",
      " 14  reportTime             11 non-null     object        \n",
      "dtypes: datetime64[ns](1), float64(1), int64(5), object(8)\n",
      "memory usage: 1.4+ KB\n",
      "Index(['name', 'temperature', 'symbol', 'weatherDescription', 'text',\n",
      "       'windSpeed', 'windGust', 'cardinalWindDirection', 'windDirection',\n",
      "       'humidity', 'rainfall', 'pressure', 'dayName', 'date', 'reportTime'],\n",
      "      dtype='object')\n",
      "      name  temperature symbol weatherDescription                 text  \\\n",
      "3  Athenry            6    46n        Light rain   \"Moderate Drizzle \"   \n",
      "5  Athenry            5    02n               Fair               \"Fair\"   \n",
      "7  Athenry            5    02n               Fair               \"Fair\"   \n",
      "0  Athenry            7    02n               Fair               \"Fair\"   \n",
      "8  Athenry            4    02n               Fair               \"Fair\"   \n",
      "\n",
      "   windSpeed windGust cardinalWindDirection  windDirection  humidity  \\\n",
      "3         26        -                    NW            315        86   \n",
      "5         11        -                    NW            315        89   \n",
      "7         20        -                    NW            315        84   \n",
      "0         17        -                    NW            315        88   \n",
      "8         15        -                    NW            315        86   \n",
      "\n",
      "   rainfall  pressure dayName       date reportTime  \n",
      "3      0.01      1016  Monday 2024-02-12      03:00  \n",
      "5      0.00      1017  Monday 2024-02-12      05:00  \n",
      "7      0.00      1018  Monday 2024-02-12      07:00  \n",
      "0      0.00      1013  Monday 2024-02-12      00:00  \n",
      "8      0.00      1020  Monday 2024-02-12      08:00  \n"
     ]
    }
   ],
   "source": [
    "# Display basic information about the dataset\n",
    "weather_data.info()\n",
    "\n",
    "# Display summary statistics for numerical columns\n",
    "weather_data.describe()\n",
    "\n",
    "# Display column names to understand the structure\n",
    "print(weather_data.columns)\n",
    "\n",
    "# Display a sample of the data to understand its content\n",
    "print(weather_data.sample(5))"
   ]
  },
  {
   "cell_type": "markdown",
   "metadata": {},
   "source": [
    "## Weather Dataset Explanation\n",
    "\n",
    "The weather data file contains observations from Met Éireann's Athenry weather station. The dataset includes real-time weather information such as temperature, humidity, wind speed, and other meteorological parameters. \n",
    "\n",
    "### Key Fields in the Dataset:\n",
    "- **Temperature**: The current temperature in degrees Celsius.\n",
    "- **Humidity**: The percentage of moisture in the air.\n",
    "- **Wind Speed**: The speed of wind measured in meters per second or kilometers per hour.\n",
    "- **Wind Direction**: The direction from which the wind is blowing, typically given in degrees.\n",
    "- **Pressure**: Atmospheric pressure measured in hPa (hectopascals).\n",
    "- **Rainfall**: The amount of precipitation recorded, usually measured in millimeters.\n",
    "\n",
    "This data provides valuable insights into current weather conditions and can be used for analysis, forecasting, or research purposes."
   ]
  },
  {
   "cell_type": "code",
   "execution_count": 20,
   "metadata": {},
   "outputs": [
    {
     "data": {
      "image/png": "[encoded data removed]",
      "text/plain": [
       "<Figure size 1000x600 with 1 Axes>"
      ]
     },
     "metadata": {},
     "output_type": "display_data"
    }
   ],
   "source": [
    "# Plot temperature over time (if there's a time-related field)\n",
    "if 'temperature' in weather_data.columns:\n",
    "    plt.figure(figsize=(10, 6))\n",
    "    plt.plot(weather_data['temperature'], label='Temperature (°C)')\n",
    "    plt.title('Temperature Trend')\n",
    "    plt.xlabel('Time')\n",
    "    plt.ylabel('Temperature (°C)')\n",
    "    plt.legend()\n",
    "    plt.show()"
   ]
  }
 ],
 "metadata": {
  "kernelspec": {
   "display_name": "base",
   "language": "python",
   "name": "python3"
  },
  "language_info": {
   "codemirror_mode": {
    "name": "ipython",
    "version": 3
   },
   "file_extension": ".py",
   "mimetype": "text/x-python",
   "name": "python",
   "nbconvert_exporter": "python",
   "pygments_lexer": "ipython3",
   "version": "3.12.7"
  }
 },
 "nbformat": 4,
 "nbformat_minor": 2
}
